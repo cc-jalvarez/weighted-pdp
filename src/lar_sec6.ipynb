{
 "cells": [
  {
   "cell_type": "markdown",
   "id": "c4b61042",
   "metadata": {},
   "source": [
    "# Section 6\n",
    "\n",
    "This file runs the partial dependence plot (PDP) analysis for the top performing models using a causal interpretation of this data visualization method. Given the weighted data, we modify scikit-learn's PDP to include weights. We also calculate the change in PDP.\n",
    "\n",
    "The PDP requires a trained model and data. Here, we use the hyper-parameters of the top model for each model-type (Logit and LGBM) and re-train it on the entire dataset. Then we use this model for the PDP."
   ]
  },
  {
   "cell_type": "code",
   "execution_count": 1,
   "id": "c1d13dc4",
   "metadata": {},
   "outputs": [],
   "source": [
    "import os\n",
    "import pickle\n",
    "import pandas as pd\n",
    "import numpy as np\n",
    "import time\n",
    "\n",
    "#from sklearn.inspection import partial_dependence\n",
    "from sklearn.inspection import plot_partial_dependence\n",
    "from matplotlib import pyplot as plt\n",
    "\n",
    "# local modules\n",
    "from _utils import *\n",
    "from _partial_dependence_weighted import partial_dependence"
   ]
  },
  {
   "cell_type": "code",
   "execution_count": 2,
   "id": "279aafbe",
   "metadata": {},
   "outputs": [],
   "source": [
    "# general settings  \n",
    "plt.style.use('seaborn-whitegrid')\n",
    "plt.rc('font', size=16)\n",
    "plt.rc('legend', fontsize=16)\n",
    "plt.rc('lines', linewidth=2)\n",
    "plt.rc('axes', linewidth=2)\n",
    "plt.rc('axes', edgecolor='k')\n",
    "plt.rc('xtick.major', width=2)\n",
    "plt.rc('xtick.major', size=10)\n",
    "plt.rc('ytick.major', width=2)\n",
    "plt.rc('ytick.major', size=10)\n",
    "plt.rc('pdf', fonttype=42)\n",
    "plt.rc('ps', fonttype=42)"
   ]
  },
  {
   "cell_type": "code",
   "execution_count": 3,
   "id": "98193ae6",
   "metadata": {},
   "outputs": [],
   "source": [
    "# working directory\n",
    "os.chdir(\"..\")\n",
    "wd = os.getcwd()\n",
    "# data folder\n",
    "data_path = wd + '/' + 'data' + '/'\n",
    "# results folder\n",
    "resu_path = wd + '/' + 'results' + '/'"
   ]
  },
  {
   "cell_type": "code",
   "execution_count": 4,
   "id": "6d2d40c1",
   "metadata": {},
   "outputs": [
    {
     "name": "stdout",
     "output_type": "stream",
     "text": [
      "---> run UNWEIGHTED\n"
     ]
    }
   ],
   "source": [
    "# use 'w' for weighted or 'u' for unweighted - the latter used as default\n",
    "experiment_type = 'u' \n",
    "\n",
    "if experiment_type == 'w':\n",
    "    filename = 'experiment_results_w.pkl'\n",
    "    print('---> run WEIGHTED')\n",
    "else:\n",
    "    filename = 'experiment_results.pkl'\n",
    "    print('---> run UNWEIGHTED')\n",
    "\n",
    "# we use the results from Section 4\n",
    "with open(resu_path + filename, 'rb') as f: \n",
    "    [target, \n",
    "     categorical_columns, \n",
    "     cat_feats, con_feats, ord_feats, all_feats, \n",
    "     state_encoder, sex_encoder, race_encoder, \n",
    "     weight_column, \n",
    "     dataset, \n",
    "     experiment_results, final_results] = pickle.load(f)"
   ]
  },
  {
   "cell_type": "code",
   "execution_count": 5,
   "id": "b64eecaa",
   "metadata": {},
   "outputs": [
    {
     "data": {
      "text/html": [
       "<div>\n",
       "<style scoped>\n",
       "    .dataframe tbody tr th:only-of-type {\n",
       "        vertical-align: middle;\n",
       "    }\n",
       "\n",
       "    .dataframe tbody tr th {\n",
       "        vertical-align: top;\n",
       "    }\n",
       "\n",
       "    .dataframe thead th {\n",
       "        text-align: right;\n",
       "    }\n",
       "</style>\n",
       "<table border=\"1\" class=\"dataframe\">\n",
       "  <thead>\n",
       "    <tr style=\"text-align: right;\">\n",
       "      <th></th>\n",
       "      <th>AGEP</th>\n",
       "      <th>COW</th>\n",
       "      <th>SCHL</th>\n",
       "      <th>MAR</th>\n",
       "      <th>OCCP</th>\n",
       "      <th>POBP</th>\n",
       "      <th>RELP</th>\n",
       "      <th>WKHP</th>\n",
       "      <th>SEX</th>\n",
       "      <th>RAC1P</th>\n",
       "      <th>Y</th>\n",
       "      <th>STATE</th>\n",
       "    </tr>\n",
       "  </thead>\n",
       "  <tbody>\n",
       "    <tr>\n",
       "      <th>0</th>\n",
       "      <td>32.0</td>\n",
       "      <td>2.0</td>\n",
       "      <td>19.0</td>\n",
       "      <td>5.0</td>\n",
       "      <td>5510.0</td>\n",
       "      <td>2.0</td>\n",
       "      <td>7.0</td>\n",
       "      <td>40.0</td>\n",
       "      <td>0</td>\n",
       "      <td>6</td>\n",
       "      <td>1</td>\n",
       "      <td>0</td>\n",
       "    </tr>\n",
       "    <tr>\n",
       "      <th>1</th>\n",
       "      <td>61.0</td>\n",
       "      <td>4.0</td>\n",
       "      <td>16.0</td>\n",
       "      <td>1.0</td>\n",
       "      <td>4220.0</td>\n",
       "      <td>2.0</td>\n",
       "      <td>1.0</td>\n",
       "      <td>40.0</td>\n",
       "      <td>1</td>\n",
       "      <td>4</td>\n",
       "      <td>0</td>\n",
       "      <td>0</td>\n",
       "    </tr>\n",
       "    <tr>\n",
       "      <th>2</th>\n",
       "      <td>65.0</td>\n",
       "      <td>2.0</td>\n",
       "      <td>21.0</td>\n",
       "      <td>1.0</td>\n",
       "      <td>6200.0</td>\n",
       "      <td>2.0</td>\n",
       "      <td>0.0</td>\n",
       "      <td>35.0</td>\n",
       "      <td>1</td>\n",
       "      <td>3</td>\n",
       "      <td>1</td>\n",
       "      <td>0</td>\n",
       "    </tr>\n",
       "    <tr>\n",
       "      <th>3</th>\n",
       "      <td>38.0</td>\n",
       "      <td>1.0</td>\n",
       "      <td>17.0</td>\n",
       "      <td>4.0</td>\n",
       "      <td>310.0</td>\n",
       "      <td>46.0</td>\n",
       "      <td>0.0</td>\n",
       "      <td>30.0</td>\n",
       "      <td>0</td>\n",
       "      <td>6</td>\n",
       "      <td>0</td>\n",
       "      <td>0</td>\n",
       "    </tr>\n",
       "    <tr>\n",
       "      <th>4</th>\n",
       "      <td>50.0</td>\n",
       "      <td>1.0</td>\n",
       "      <td>21.0</td>\n",
       "      <td>1.0</td>\n",
       "      <td>3255.0</td>\n",
       "      <td>328.0</td>\n",
       "      <td>0.0</td>\n",
       "      <td>50.0</td>\n",
       "      <td>0</td>\n",
       "      <td>1</td>\n",
       "      <td>1</td>\n",
       "      <td>0</td>\n",
       "    </tr>\n",
       "  </tbody>\n",
       "</table>\n",
       "</div>"
      ],
      "text/plain": [
       "   AGEP  COW  SCHL  MAR    OCCP   POBP  RELP  WKHP  SEX  RAC1P  Y  STATE\n",
       "0  32.0  2.0  19.0  5.0  5510.0    2.0   7.0  40.0    0      6  1      0\n",
       "1  61.0  4.0  16.0  1.0  4220.0    2.0   1.0  40.0    1      4  0      0\n",
       "2  65.0  2.0  21.0  1.0  6200.0    2.0   0.0  35.0    1      3  1      0\n",
       "3  38.0  1.0  17.0  4.0   310.0   46.0   0.0  30.0    0      6  0      0\n",
       "4  50.0  1.0  21.0  1.0  3255.0  328.0   0.0  50.0    0      1  1      0"
      ]
     },
     "execution_count": 5,
     "metadata": {},
     "output_type": "execute_result"
    }
   ],
   "source": [
    "dataset.head(5)"
   ]
  },
  {
   "cell_type": "code",
   "execution_count": 9,
   "id": "9dd27760",
   "metadata": {},
   "outputs": [
    {
     "data": {
      "text/plain": [
       "True"
      ]
     },
     "execution_count": 9,
     "metadata": {},
     "output_type": "execute_result"
    }
   ],
   "source": [
    "weight_column is None"
   ]
  },
  {
   "cell_type": "markdown",
   "id": "f14bf827",
   "metadata": {},
   "source": [
    "## Train a single model using the top best-hyparams and on the full dataset"
   ]
  },
  {
   "cell_type": "code",
   "execution_count": 10,
   "id": "bd2203cc",
   "metadata": {},
   "outputs": [
    {
     "name": "stdout",
     "output_type": "stream",
     "text": [
      "no weights provided\n"
     ]
    },
    {
     "name": "stderr",
     "output_type": "stream",
     "text": [
      "D:\\Programs\\Anaconda\\lib\\site-packages\\sklearn\\linear_model\\_logistic.py:814: ConvergenceWarning: lbfgs failed to converge (status=1):\n",
      "STOP: TOTAL NO. of ITERATIONS REACHED LIMIT.\n",
      "\n",
      "Increase the number of iterations (max_iter) or scale the data as shown in:\n",
      "    https://scikit-learn.org/stable/modules/preprocessing.html\n",
      "Please also refer to the documentation for alternative solver options:\n",
      "    https://scikit-learn.org/stable/modules/linear_model.html#logistic-regression\n",
      "  n_iter_i = _check_optimize_result(\n"
     ]
    },
    {
     "name": "stdout",
     "output_type": "stream",
     "text": [
      "no weights provided\n",
      "[LightGBM] [Warning] feature_fraction is set=0.7789355153603348, colsample_bytree=1.0 will be ignored. Current value: feature_fraction=0.7789355153603348\n",
      "[LightGBM] [Warning] lambda_l1 is set=0.6437596878291109, reg_alpha=0.0 will be ignored. Current value: lambda_l1=0.6437596878291109\n",
      "[LightGBM] [Warning] bagging_fraction is set=0.8577577792661564, subsample=1.0 will be ignored. Current value: bagging_fraction=0.8577577792661564\n",
      "[LightGBM] [Warning] lambda_l2 is set=0.40648792269514766, reg_lambda=0.0 will be ignored. Current value: lambda_l2=0.40648792269514766\n",
      "[LightGBM] [Warning] bagging_freq is set=4, subsample_freq=0 will be ignored. Current value: bagging_freq=4\n",
      "DONE\n"
     ]
    }
   ],
   "source": [
    "# store results for both models\n",
    "trained_clfs = {}\n",
    "\n",
    "# param 1\n",
    "dataset_type = 'bible_belt'\n",
    "\n",
    "# param 2\n",
    "for clf_type in ['LR','LGBM2']:\n",
    "    \n",
    "#     # get dataset\n",
    "#     dataset = datasets[dataset_type].copy()\n",
    "#     print(dataset.shape)\n",
    "\n",
    "    # get best model params\n",
    "    temp_experiment_results = experiment_results[\n",
    "        (experiment_results['clf_name'] == clf_type) & (experiment_results['dataset'] == dataset_type)\n",
    "        ]\n",
    "    best_hyparams = temp_experiment_results.iloc[0]['best_hyparams']\n",
    "    del temp_experiment_results\n",
    "    \n",
    "    if weight_column is not None:\n",
    "        # match weights\n",
    "        print(weight_column.shape)\n",
    "        weight_column = weight_column.filter(items=dataset.index)\n",
    "        print(weight_column.shape)\n",
    "    else:\n",
    "        print('no weights provided')\n",
    "    \n",
    "    # divide data accordingly\n",
    "    X = dataset.copy()\n",
    "    y = dataset[target]\n",
    "    X.drop(columns = [target], inplace = True)\n",
    "    \n",
    "    # train on the full data\n",
    "    clf = build_model(clf_type, categorical_columns, best_hyparams)    \n",
    "    clf.fit(X, y, clf__sample_weight = weight_column)\n",
    "    \n",
    "    trained_clfs[clf_type] = clf\n",
    "    \n",
    "print('DONE')"
   ]
  },
  {
   "cell_type": "code",
   "execution_count": 11,
   "id": "b702bcb1",
   "metadata": {},
   "outputs": [
    {
     "data": {
      "text/plain": [
       "dict_keys(['LR', 'LGBM2'])"
      ]
     },
     "execution_count": 11,
     "metadata": {},
     "output_type": "execute_result"
    }
   ],
   "source": [
    "trained_clfs.keys()"
   ]
  },
  {
   "cell_type": "markdown",
   "id": "25f215f2",
   "metadata": {},
   "source": [
    "## Beta coefficients for LR"
   ]
  },
  {
   "cell_type": "code",
   "execution_count": 13,
   "id": "09e688cf",
   "metadata": {},
   "outputs": [
    {
     "name": "stderr",
     "output_type": "stream",
     "text": [
      "D:\\Programs\\Anaconda\\lib\\site-packages\\sklearn\\utils\\deprecation.py:87: FutureWarning: Function get_feature_names is deprecated; get_feature_names is deprecated in 1.0 and will be removed in 1.2. Please use get_feature_names_out instead.\n",
      "  warnings.warn(msg, category=FutureWarning)\n"
     ]
    },
    {
     "data": {
      "text/html": [
       "<div>\n",
       "<style scoped>\n",
       "    .dataframe tbody tr th:only-of-type {\n",
       "        vertical-align: middle;\n",
       "    }\n",
       "\n",
       "    .dataframe tbody tr th {\n",
       "        vertical-align: top;\n",
       "    }\n",
       "\n",
       "    .dataframe thead th {\n",
       "        text-align: right;\n",
       "    }\n",
       "</style>\n",
       "<table border=\"1\" class=\"dataframe\">\n",
       "  <thead>\n",
       "    <tr style=\"text-align: right;\">\n",
       "      <th></th>\n",
       "      <th>features</th>\n",
       "      <th>betas</th>\n",
       "    </tr>\n",
       "  </thead>\n",
       "  <tbody>\n",
       "    <tr>\n",
       "      <th>0</th>\n",
       "      <td>onehot__x0_0</td>\n",
       "      <td>-2.25113</td>\n",
       "    </tr>\n",
       "    <tr>\n",
       "      <th>1</th>\n",
       "      <td>onehot__x0_1</td>\n",
       "      <td>-1.51440</td>\n",
       "    </tr>\n",
       "    <tr>\n",
       "      <th>2</th>\n",
       "      <td>onehot__x1_0</td>\n",
       "      <td>-0.39583</td>\n",
       "    </tr>\n",
       "    <tr>\n",
       "      <th>3</th>\n",
       "      <td>onehot__x1_1</td>\n",
       "      <td>-0.67840</td>\n",
       "    </tr>\n",
       "    <tr>\n",
       "      <th>4</th>\n",
       "      <td>onehot__x1_2</td>\n",
       "      <td>-0.37106</td>\n",
       "    </tr>\n",
       "    <tr>\n",
       "      <th>...</th>\n",
       "      <td>...</td>\n",
       "      <td>...</td>\n",
       "    </tr>\n",
       "    <tr>\n",
       "      <th>502</th>\n",
       "      <td>COW</td>\n",
       "      <td>-0.28982</td>\n",
       "    </tr>\n",
       "    <tr>\n",
       "      <th>503</th>\n",
       "      <td>SCHL</td>\n",
       "      <td>4.23293</td>\n",
       "    </tr>\n",
       "    <tr>\n",
       "      <th>504</th>\n",
       "      <td>POBP</td>\n",
       "      <td>-0.34394</td>\n",
       "    </tr>\n",
       "    <tr>\n",
       "      <th>505</th>\n",
       "      <td>RELP</td>\n",
       "      <td>-1.26630</td>\n",
       "    </tr>\n",
       "    <tr>\n",
       "      <th>506</th>\n",
       "      <td>WKHP</td>\n",
       "      <td>5.19069</td>\n",
       "    </tr>\n",
       "  </tbody>\n",
       "</table>\n",
       "<p>507 rows × 2 columns</p>\n",
       "</div>"
      ],
      "text/plain": [
       "         features    betas\n",
       "0    onehot__x0_0 -2.25113\n",
       "1    onehot__x0_1 -1.51440\n",
       "2    onehot__x1_0 -0.39583\n",
       "3    onehot__x1_1 -0.67840\n",
       "4    onehot__x1_2 -0.37106\n",
       "..            ...      ...\n",
       "502           COW -0.28982\n",
       "503          SCHL  4.23293\n",
       "504          POBP -0.34394\n",
       "505          RELP -1.26630\n",
       "506          WKHP  5.19069\n",
       "\n",
       "[507 rows x 2 columns]"
      ]
     },
     "execution_count": 13,
     "metadata": {},
     "output_type": "execute_result"
    }
   ],
   "source": [
    "temp_betas_0 = pd.DataFrame(zip(trained_clfs['LR']['one hot'].get_feature_names(), \n",
    "                                np.transpose(trained_clfs['LR']['clf'].coef_)), \n",
    "                            columns=['features', 'betas'])\n",
    "# remove [] and round up\n",
    "temp_betas_0['betas'] = temp_betas_0['betas'].map(lambda x: round(x[0], 5))\n",
    "# Keep track of these for later\n",
    "temp_betas_0"
   ]
  },
  {
   "cell_type": "markdown",
   "id": "8f43f10c",
   "metadata": {},
   "source": [
    "## Run (weighted) PDP\n",
    "\n",
    "In the paper, we provided country-specific weights to address potential sample selection bias in the survey data. We then explored the causal importance of each *Theme* in the survey. Under this version with the US Bible Belt states, we are not considering state-specific weights. The pipeline below applies for the weighted version, which we explore in future work."
   ]
  },
  {
   "cell_type": "code",
   "execution_count": 16,
   "id": "0d2d6346",
   "metadata": {},
   "outputs": [],
   "source": [
    "columns_of_interest = ['MAR', 'SCHL']"
   ]
  },
  {
   "cell_type": "code",
   "execution_count": 19,
   "id": "80be44cb",
   "metadata": {},
   "outputs": [
    {
     "name": "stdout",
     "output_type": "stream",
     "text": [
      "MAR\n",
      "running weighted PDP\n"
     ]
    },
    {
     "name": "stderr",
     "output_type": "stream",
     "text": [
      "C:\\Users\\jose\\AppData\\Local\\Temp\\3\\ipykernel_15008\\1386432967.py:36: FutureWarning: The frame.append method is deprecated and will be removed from pandas in a future version. Use pandas.concat instead.\n",
      "  delta_pdp = delta_pdp.append(temp_delta_pdp, ignore_index=True)\n",
      "meta NOT subset; don't know how to subset; dropped\n"
     ]
    },
    {
     "name": "stdout",
     "output_type": "stream",
     "text": [
      "SCHL\n",
      "running weighted PDP\n"
     ]
    },
    {
     "name": "stderr",
     "output_type": "stream",
     "text": [
      "C:\\Users\\jose\\AppData\\Local\\Temp\\3\\ipykernel_15008\\1386432967.py:36: FutureWarning: The frame.append method is deprecated and will be removed from pandas in a future version. Use pandas.concat instead.\n",
      "  delta_pdp = delta_pdp.append(temp_delta_pdp, ignore_index=True)\n",
      "meta NOT subset; don't know how to subset; dropped\n"
     ]
    },
    {
     "name": "stdout",
     "output_type": "stream",
     "text": [
      "DONE\n"
     ]
    },
    {
     "data": {
      "text/plain": [
       "<Figure size 640x480 with 0 Axes>"
      ]
     },
     "metadata": {},
     "output_type": "display_data"
    }
   ],
   "source": [
    "# store results for both models\n",
    "pdp_res = {}\n",
    "\n",
    "delta_pdp = pd.DataFrame(columns=['Theme', 'LR', 'LG']) # here, delta = 0 - 10 \n",
    "\n",
    "for theme_var in columns_of_interest:\n",
    "    print(theme_var)\n",
    "    \n",
    "    if weight_column is not None:\n",
    "        print('runing standard PDP')\n",
    "    else:\n",
    "        print('running weighted PDP')\n",
    "    \n",
    "    # to get the full range of X vals:\n",
    "    grid_res = len(X[theme_var].unique()) + 1\n",
    "    \n",
    "    # calculate PD for both classifiers\n",
    "    pd_lg = partial_dependence(trained_clfs['LGBM2'], X, [theme_var],\n",
    "                               grid_resolution=grid_res,\n",
    "                               method='brute', kind='average', response_method='predict_proba', \n",
    "                               sample_weight=weight_column)\n",
    "    pd_lr = partial_dependence(trained_clfs['LR'], X, [theme_var],\n",
    "                               grid_resolution=grid_res,\n",
    "                               method='brute', kind='average', response_method='predict_proba', \n",
    "                               sample_weight=weight_column)\n",
    "    # store results\n",
    "    pdp_res[theme_var] = {}\n",
    "    pdp_res[theme_var]['LGBM2'] = pd_lg\n",
    "    pdp_res[theme_var]['LR'] = pd_lr\n",
    "    \n",
    "    # store deltas\n",
    "    temp_delta_pdp = {}\n",
    "    temp_delta_pdp['Theme'] = theme_var.split('_')[0]\n",
    "    temp_delta_pdp['LR'] = round(pd_lr['average'][0][0] - pd_lr['average'][0][-1], 3)\n",
    "    temp_delta_pdp['LG'] = round(pd_lg['average'][0][0] - pd_lg['average'][0][-1], 3)\n",
    "    delta_pdp = delta_pdp.append(temp_delta_pdp, ignore_index=True)\n",
    "    del temp_delta_pdp\n",
    "    \n",
    "    # create and save plot\n",
    "    plt.plot(pd_lg['values'][0], pd_lg['average'][0], label='LGBM')\n",
    "    plt.plot(pd_lr['values'][0], pd_lr['average'][0], label='LR')\n",
    "    \n",
    "    plt.legend()\n",
    "    plt.xlabel(theme_var.split('_')[0] + ' theme $t$')\n",
    "    plt.ylabel('$\\hat{b}_T (t)$')\n",
    "    #plt.title('PDP for {} theme'.format(theme_var.split('_')[0]))\n",
    "    plt.xlim([0, 10])\n",
    "    #plt.ylim([0, np.max(pd_lg['average'] + pd_lr['average'])[0].round(1) + 0.25])\n",
    "    plt.ylim([0, pd_lg['average'][0].max().round(1) + 0.25])\n",
    "\n",
    "    # save\n",
    "    plt.savefig(fname=resu_path + 'PDPs\\\\' + 'lar_pdp_{}_unweighted.pdf'.format(theme_var.split('_')[0]), \n",
    "                bbox_inches='tight', \n",
    "                dpi=400)\n",
    "    \n",
    "    # close with current plot\n",
    "    plt.clf()\n",
    "    \n",
    "print('DONE')"
   ]
  },
  {
   "cell_type": "code",
   "execution_count": 20,
   "id": "d2c81974",
   "metadata": {},
   "outputs": [
    {
     "data": {
      "text/html": [
       "<div>\n",
       "<style scoped>\n",
       "    .dataframe tbody tr th:only-of-type {\n",
       "        vertical-align: middle;\n",
       "    }\n",
       "\n",
       "    .dataframe tbody tr th {\n",
       "        vertical-align: top;\n",
       "    }\n",
       "\n",
       "    .dataframe thead th {\n",
       "        text-align: right;\n",
       "    }\n",
       "</style>\n",
       "<table border=\"1\" class=\"dataframe\">\n",
       "  <thead>\n",
       "    <tr style=\"text-align: right;\">\n",
       "      <th></th>\n",
       "      <th>Theme</th>\n",
       "      <th>LR</th>\n",
       "      <th>LG</th>\n",
       "    </tr>\n",
       "  </thead>\n",
       "  <tbody>\n",
       "    <tr>\n",
       "      <th>0</th>\n",
       "      <td>MAR</td>\n",
       "      <td>0.064</td>\n",
       "      <td>0.037</td>\n",
       "    </tr>\n",
       "    <tr>\n",
       "      <th>1</th>\n",
       "      <td>SCHL</td>\n",
       "      <td>-0.404</td>\n",
       "      <td>-0.358</td>\n",
       "    </tr>\n",
       "  </tbody>\n",
       "</table>\n",
       "</div>"
      ],
      "text/plain": [
       "  Theme     LR     LG\n",
       "0   MAR  0.064  0.037\n",
       "1  SCHL -0.404 -0.358"
      ]
     },
     "execution_count": 20,
     "metadata": {},
     "output_type": "execute_result"
    }
   ],
   "source": [
    "delta_pdp.sort_values(by='LR', ascending=False, inplace=True)#.reset_index(drop=True, inplace=True)\n",
    "delta_pdp"
   ]
  },
  {
   "cell_type": "code",
   "execution_count": 21,
   "id": "8e044428",
   "metadata": {},
   "outputs": [
    {
     "data": {
      "text/plain": [
       "dict_keys(['MAR', 'SCHL'])"
      ]
     },
     "execution_count": 21,
     "metadata": {},
     "output_type": "execute_result"
    }
   ],
   "source": [
    "pdp_res.keys()"
   ]
  },
  {
   "cell_type": "code",
   "execution_count": null,
   "id": "71f164c8",
   "metadata": {},
   "outputs": [],
   "source": []
  }
 ],
 "metadata": {
  "kernelspec": {
   "display_name": "Python 3 (ipykernel)",
   "language": "python",
   "name": "python3"
  },
  "language_info": {
   "codemirror_mode": {
    "name": "ipython",
    "version": 3
   },
   "file_extension": ".py",
   "mimetype": "text/x-python",
   "name": "python",
   "nbconvert_exporter": "python",
   "pygments_lexer": "ipython3",
   "version": "3.9.13"
  }
 },
 "nbformat": 4,
 "nbformat_minor": 5
}
