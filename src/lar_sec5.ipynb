{
 "cells": [
  {
   "cell_type": "markdown",
   "id": "8a0f04fb",
   "metadata": {},
   "source": [
    "# Section 5\n",
    "\n",
    "This file runs the per-fold ranking using feature importance for our top two performing classifiers from Section 4: the logistic regression and LGBM. The procedure is model-specific. Here, we don't have weighted (w) and unweighted (u) versions of the data as in the original pipeline; it is, however, the same procedure for both."
   ]
  },
  {
   "cell_type": "code",
   "execution_count": null,
   "id": "cd86d62e",
   "metadata": {},
   "outputs": [],
   "source": [
    "import os\n",
    "import pickle\n",
    "import pandas as pd\n",
    "import numpy as np\n",
    "\n",
    "# local modules\n",
    "from _utils import *\n",
    "\n",
    "from functools import reduce\n",
    "from typing import List\n",
    "from matplotlib import pyplot as plt"
   ]
  },
  {
   "cell_type": "code",
   "execution_count": null,
   "id": "3a3fa5d4",
   "metadata": {},
   "outputs": [],
   "source": [
    "# general settings  \n",
    "plt.style.use('seaborn-whitegrid') # https://matplotlib.org/devdocs/gallery/style_sheets/style_sheets_reference.html\n",
    "plt.rc('font', size=16)\n",
    "plt.rc('legend', fontsize=16)\n",
    "plt.rc('lines', linewidth=2)\n",
    "plt.rc('axes', linewidth=2)\n",
    "plt.rc('axes', edgecolor='k')\n",
    "plt.rc('xtick.major', width=2)\n",
    "plt.rc('xtick.major', size=10)\n",
    "plt.rc('ytick.major', width=2)\n",
    "plt.rc('ytick.major', size=10)\n",
    "plt.rc('pdf', fonttype=42)\n",
    "plt.rc('ps', fonttype=42)"
   ]
  },
  {
   "cell_type": "code",
   "execution_count": null,
   "id": "1a12fb3e",
   "metadata": {},
   "outputs": [],
   "source": [
    "# working directory\n",
    "os.chdir(\"..\")\n",
    "wd = os.getcwd()\n",
    "# data folder\n",
    "data_path = wd + '/' + 'data' + '/'\n",
    "# results folder\n",
    "resu_path = wd + '/' + 'results' + '/'"
   ]
  },
  {
   "cell_type": "code",
   "execution_count": null,
   "id": "0096c7e0",
   "metadata": {},
   "outputs": [],
   "source": []
  },
  {
   "cell_type": "code",
   "execution_count": null,
   "id": "fbce2cd9",
   "metadata": {},
   "outputs": [],
   "source": []
  },
  {
   "cell_type": "code",
   "execution_count": null,
   "id": "58bcce8e",
   "metadata": {},
   "outputs": [],
   "source": []
  },
  {
   "cell_type": "code",
   "execution_count": null,
   "id": "a64199b1",
   "metadata": {},
   "outputs": [],
   "source": []
  },
  {
   "cell_type": "code",
   "execution_count": null,
   "id": "b6934ceb",
   "metadata": {},
   "outputs": [],
   "source": []
  }
 ],
 "metadata": {
  "kernelspec": {
   "display_name": "Python 3 (ipykernel)",
   "language": "python",
   "name": "python3"
  },
  "language_info": {
   "codemirror_mode": {
    "name": "ipython",
    "version": 3
   },
   "file_extension": ".py",
   "mimetype": "text/x-python",
   "name": "python",
   "nbconvert_exporter": "python",
   "pygments_lexer": "ipython3",
   "version": "3.9.13"
  }
 },
 "nbformat": 4,
 "nbformat_minor": 5
}
