{
 "cells": [
  {
   "cell_type": "markdown",
   "id": "8a0f04fb",
   "metadata": {},
   "source": [
    "# Section 5\n",
    "\n",
    "This file runs the per-fold ranking using feature importance for our top two performing classifiers from Section 4. In the paper, these classifiers were the logistic regression and LGBM. The procedure is model-specific. Here, we don't have weighted (w) and unweighted (u) versions of the data as in the original pipeline; it is, however, the same procedure for both."
   ]
  },
  {
   "cell_type": "code",
   "execution_count": 1,
   "id": "cd86d62e",
   "metadata": {},
   "outputs": [],
   "source": [
    "import os\n",
    "import pickle\n",
    "import pandas as pd\n",
    "import numpy as np\n",
    "\n",
    "# local modules\n",
    "from _utils import *\n",
    "\n",
    "from functools import reduce\n",
    "from typing import List\n",
    "from matplotlib import pyplot as plt"
   ]
  },
  {
   "cell_type": "code",
   "execution_count": 2,
   "id": "3a3fa5d4",
   "metadata": {},
   "outputs": [],
   "source": [
    "# general settings  \n",
    "plt.style.use('seaborn-whitegrid')\n",
    "plt.rc('font', size=16)\n",
    "plt.rc('legend', fontsize=16)\n",
    "plt.rc('lines', linewidth=2)\n",
    "plt.rc('axes', linewidth=2)\n",
    "plt.rc('axes', edgecolor='k')\n",
    "plt.rc('xtick.major', width=2)\n",
    "plt.rc('xtick.major', size=10)\n",
    "plt.rc('ytick.major', width=2)\n",
    "plt.rc('ytick.major', size=10)\n",
    "plt.rc('pdf', fonttype=42)\n",
    "plt.rc('ps', fonttype=42)"
   ]
  },
  {
   "cell_type": "code",
   "execution_count": 3,
   "id": "1a12fb3e",
   "metadata": {},
   "outputs": [],
   "source": [
    "# working directory\n",
    "os.chdir(\"..\")\n",
    "wd = os.getcwd()\n",
    "# data folder\n",
    "data_path = wd + '/' + 'data' + '/'\n",
    "# results folder\n",
    "resu_path = wd + '/' + 'results' + '/'"
   ]
  },
  {
   "cell_type": "markdown",
   "id": "8de839fa",
   "metadata": {},
   "source": [
    "## Setting parameters"
   ]
  },
  {
   "cell_type": "code",
   "execution_count": 4,
   "id": "fbce2cd9",
   "metadata": {},
   "outputs": [],
   "source": [
    "# types of datasets\n",
    "ls_clf_type     = ['LGBM2', 'LR']\n",
    "ls_dataset_type = ['bible_belt']\n",
    "# ls_dataset_type = ['item', 'theme']  # See paper for details: We don't have this type of data setting\n",
    "\n",
    "# store all results here\n",
    "all_results = {}\n",
    "\n",
    "# top-k\n",
    "k = 10"
   ]
  },
  {
   "cell_type": "code",
   "execution_count": 5,
   "id": "58bcce8e",
   "metadata": {},
   "outputs": [
    {
     "name": "stdout",
     "output_type": "stream",
     "text": [
      "---> run UNWEIGHTED\n"
     ]
    }
   ],
   "source": [
    "# use 'w' for weighted or 'u' for unweighted - the latter used as default\n",
    "experiment_type = 'u' \n",
    "\n",
    "if experiment_type == 'w':\n",
    "    filename = 'experiment_results_w.pkl'\n",
    "    print('---> run WEIGHTED')\n",
    "else:\n",
    "    filename = 'experiment_results.pkl'\n",
    "    print('---> run UNWEIGHTED')"
   ]
  },
  {
   "cell_type": "code",
   "execution_count": 6,
   "id": "a64199b1",
   "metadata": {},
   "outputs": [
    {
     "data": {
      "text/plain": [
       "dict_keys([])"
      ]
     },
     "execution_count": 6,
     "metadata": {},
     "output_type": "execute_result"
    }
   ],
   "source": [
    "# check for exisiting results\n",
    "all_results.keys()"
   ]
  },
  {
   "cell_type": "code",
   "execution_count": 7,
   "id": "b6934ceb",
   "metadata": {},
   "outputs": [],
   "source": [
    "# we use the results from Section 4 - hence, load from results folder\n",
    "with open(resu_path + filename, 'rb') as f: \n",
    "    [target, \n",
    "     categorical_columns, \n",
    "     cat_feats, con_feats, ord_feats, all_feats, \n",
    "     state_encoder, sex_encoder, race_encoder, \n",
    "     weight_column, \n",
    "     dataset, \n",
    "     experiment_results, final_results] = pickle.load(f)"
   ]
  },
  {
   "cell_type": "code",
   "execution_count": 8,
   "id": "87400c89",
   "metadata": {},
   "outputs": [
    {
     "data": {
      "text/html": [
       "<div>\n",
       "<style scoped>\n",
       "    .dataframe tbody tr th:only-of-type {\n",
       "        vertical-align: middle;\n",
       "    }\n",
       "\n",
       "    .dataframe tbody tr th {\n",
       "        vertical-align: top;\n",
       "    }\n",
       "\n",
       "    .dataframe thead th {\n",
       "        text-align: right;\n",
       "    }\n",
       "</style>\n",
       "<table border=\"1\" class=\"dataframe\">\n",
       "  <thead>\n",
       "    <tr style=\"text-align: right;\">\n",
       "      <th></th>\n",
       "      <th>AGEP</th>\n",
       "      <th>COW</th>\n",
       "      <th>SCHL</th>\n",
       "      <th>MAR</th>\n",
       "      <th>OCCP</th>\n",
       "      <th>POBP</th>\n",
       "      <th>RELP</th>\n",
       "      <th>WKHP</th>\n",
       "      <th>SEX</th>\n",
       "      <th>RAC1P</th>\n",
       "      <th>Y</th>\n",
       "      <th>STATE</th>\n",
       "    </tr>\n",
       "  </thead>\n",
       "  <tbody>\n",
       "    <tr>\n",
       "      <th>0</th>\n",
       "      <td>32.0</td>\n",
       "      <td>2.0</td>\n",
       "      <td>19.0</td>\n",
       "      <td>5.0</td>\n",
       "      <td>5510.0</td>\n",
       "      <td>2.0</td>\n",
       "      <td>7.0</td>\n",
       "      <td>40.0</td>\n",
       "      <td>0</td>\n",
       "      <td>6</td>\n",
       "      <td>1</td>\n",
       "      <td>0</td>\n",
       "    </tr>\n",
       "    <tr>\n",
       "      <th>1</th>\n",
       "      <td>61.0</td>\n",
       "      <td>4.0</td>\n",
       "      <td>16.0</td>\n",
       "      <td>1.0</td>\n",
       "      <td>4220.0</td>\n",
       "      <td>2.0</td>\n",
       "      <td>1.0</td>\n",
       "      <td>40.0</td>\n",
       "      <td>1</td>\n",
       "      <td>4</td>\n",
       "      <td>0</td>\n",
       "      <td>0</td>\n",
       "    </tr>\n",
       "    <tr>\n",
       "      <th>2</th>\n",
       "      <td>65.0</td>\n",
       "      <td>2.0</td>\n",
       "      <td>21.0</td>\n",
       "      <td>1.0</td>\n",
       "      <td>6200.0</td>\n",
       "      <td>2.0</td>\n",
       "      <td>0.0</td>\n",
       "      <td>35.0</td>\n",
       "      <td>1</td>\n",
       "      <td>3</td>\n",
       "      <td>1</td>\n",
       "      <td>0</td>\n",
       "    </tr>\n",
       "    <tr>\n",
       "      <th>3</th>\n",
       "      <td>38.0</td>\n",
       "      <td>1.0</td>\n",
       "      <td>17.0</td>\n",
       "      <td>4.0</td>\n",
       "      <td>310.0</td>\n",
       "      <td>46.0</td>\n",
       "      <td>0.0</td>\n",
       "      <td>30.0</td>\n",
       "      <td>0</td>\n",
       "      <td>6</td>\n",
       "      <td>0</td>\n",
       "      <td>0</td>\n",
       "    </tr>\n",
       "    <tr>\n",
       "      <th>4</th>\n",
       "      <td>50.0</td>\n",
       "      <td>1.0</td>\n",
       "      <td>21.0</td>\n",
       "      <td>1.0</td>\n",
       "      <td>3255.0</td>\n",
       "      <td>328.0</td>\n",
       "      <td>0.0</td>\n",
       "      <td>50.0</td>\n",
       "      <td>0</td>\n",
       "      <td>1</td>\n",
       "      <td>1</td>\n",
       "      <td>0</td>\n",
       "    </tr>\n",
       "  </tbody>\n",
       "</table>\n",
       "</div>"
      ],
      "text/plain": [
       "   AGEP  COW  SCHL  MAR    OCCP   POBP  RELP  WKHP  SEX  RAC1P  Y  STATE\n",
       "0  32.0  2.0  19.0  5.0  5510.0    2.0   7.0  40.0    0      6  1      0\n",
       "1  61.0  4.0  16.0  1.0  4220.0    2.0   1.0  40.0    1      4  0      0\n",
       "2  65.0  2.0  21.0  1.0  6200.0    2.0   0.0  35.0    1      3  1      0\n",
       "3  38.0  1.0  17.0  4.0   310.0   46.0   0.0  30.0    0      6  0      0\n",
       "4  50.0  1.0  21.0  1.0  3255.0  328.0   0.0  50.0    0      1  1      0"
      ]
     },
     "execution_count": 8,
     "metadata": {},
     "output_type": "execute_result"
    }
   ],
   "source": [
    "dataset.head(5)"
   ]
  },
  {
   "cell_type": "markdown",
   "id": "1c8dfd54",
   "metadata": {},
   "source": [
    "## Extract and rank feature importance"
   ]
  },
  {
   "cell_type": "code",
   "execution_count": 10,
   "id": "5f290db8",
   "metadata": {},
   "outputs": [
    {
     "name": "stdout",
     "output_type": "stream",
     "text": [
      "LGBM2\n",
      "bible_belt\n",
      "(6, 9)\n",
      "(235893,)\n",
      "(235893, 11)\n",
      "[LightGBM] [Warning] feature_fraction is set=0.7789355153603348, colsample_bytree=1.0 will be ignored. Current value: feature_fraction=0.7789355153603348\n",
      "[LightGBM] [Warning] lambda_l1 is set=0.6437596878291109, reg_alpha=0.0 will be ignored. Current value: lambda_l1=0.6437596878291109\n",
      "[LightGBM] [Warning] bagging_fraction is set=0.8577577792661564, subsample=1.0 will be ignored. Current value: bagging_fraction=0.8577577792661564\n",
      "[LightGBM] [Warning] lambda_l2 is set=0.40648792269514766, reg_lambda=0.0 will be ignored. Current value: lambda_l2=0.40648792269514766\n",
      "[LightGBM] [Warning] bagging_freq is set=4, subsample_freq=0 will be ignored. Current value: bagging_freq=4\n"
     ]
    },
    {
     "name": "stderr",
     "output_type": "stream",
     "text": [
      "D:\\Programs\\Anaconda\\lib\\site-packages\\sklearn\\utils\\deprecation.py:87: FutureWarning: Function get_feature_names is deprecated; get_feature_names is deprecated in 1.0 and will be removed in 1.2. Please use get_feature_names_out instead.\n",
      "  warnings.warn(msg, category=FutureWarning)\n"
     ]
    },
    {
     "name": "stdout",
     "output_type": "stream",
     "text": [
      "[LightGBM] [Warning] feature_fraction is set=0.7141653713024363, colsample_bytree=1.0 will be ignored. Current value: feature_fraction=0.7141653713024363\n",
      "[LightGBM] [Warning] lambda_l1 is set=0.10020647866897148, reg_alpha=0.0 will be ignored. Current value: lambda_l1=0.10020647866897148\n",
      "[LightGBM] [Warning] bagging_fraction is set=0.5194238019233199, subsample=1.0 will be ignored. Current value: bagging_fraction=0.5194238019233199\n",
      "[LightGBM] [Warning] lambda_l2 is set=0.42165623504513017, reg_lambda=0.0 will be ignored. Current value: lambda_l2=0.42165623504513017\n",
      "[LightGBM] [Warning] bagging_freq is set=6, subsample_freq=0 will be ignored. Current value: bagging_freq=6\n"
     ]
    },
    {
     "name": "stderr",
     "output_type": "stream",
     "text": [
      "D:\\Programs\\Anaconda\\lib\\site-packages\\sklearn\\utils\\deprecation.py:87: FutureWarning: Function get_feature_names is deprecated; get_feature_names is deprecated in 1.0 and will be removed in 1.2. Please use get_feature_names_out instead.\n",
      "  warnings.warn(msg, category=FutureWarning)\n"
     ]
    },
    {
     "name": "stdout",
     "output_type": "stream",
     "text": [
      "[LightGBM] [Warning] feature_fraction is set=0.9089757436394137, colsample_bytree=1.0 will be ignored. Current value: feature_fraction=0.9089757436394137\n",
      "[LightGBM] [Warning] lambda_l1 is set=0.6844317511858413, reg_alpha=0.0 will be ignored. Current value: lambda_l1=0.6844317511858413\n",
      "[LightGBM] [Warning] bagging_fraction is set=0.7551290984043468, subsample=1.0 will be ignored. Current value: bagging_fraction=0.7551290984043468\n",
      "[LightGBM] [Warning] lambda_l2 is set=0.6739354941526675, reg_lambda=0.0 will be ignored. Current value: lambda_l2=0.6739354941526675\n",
      "[LightGBM] [Warning] bagging_freq is set=9, subsample_freq=0 will be ignored. Current value: bagging_freq=9\n"
     ]
    },
    {
     "name": "stderr",
     "output_type": "stream",
     "text": [
      "D:\\Programs\\Anaconda\\lib\\site-packages\\sklearn\\utils\\deprecation.py:87: FutureWarning: Function get_feature_names is deprecated; get_feature_names is deprecated in 1.0 and will be removed in 1.2. Please use get_feature_names_out instead.\n",
      "  warnings.warn(msg, category=FutureWarning)\n"
     ]
    },
    {
     "name": "stdout",
     "output_type": "stream",
     "text": [
      "[LightGBM] [Warning] feature_fraction is set=0.9174432270540904, colsample_bytree=1.0 will be ignored. Current value: feature_fraction=0.9174432270540904\n",
      "[LightGBM] [Warning] lambda_l1 is set=0.5034380303298535, reg_alpha=0.0 will be ignored. Current value: lambda_l1=0.5034380303298535\n",
      "[LightGBM] [Warning] bagging_fraction is set=0.8106775600700995, subsample=1.0 will be ignored. Current value: bagging_fraction=0.8106775600700995\n",
      "[LightGBM] [Warning] lambda_l2 is set=0.7149633063650149, reg_lambda=0.0 will be ignored. Current value: lambda_l2=0.7149633063650149\n",
      "[LightGBM] [Warning] bagging_freq is set=8, subsample_freq=0 will be ignored. Current value: bagging_freq=8\n"
     ]
    },
    {
     "name": "stderr",
     "output_type": "stream",
     "text": [
      "D:\\Programs\\Anaconda\\lib\\site-packages\\sklearn\\utils\\deprecation.py:87: FutureWarning: Function get_feature_names is deprecated; get_feature_names is deprecated in 1.0 and will be removed in 1.2. Please use get_feature_names_out instead.\n",
      "  warnings.warn(msg, category=FutureWarning)\n"
     ]
    },
    {
     "name": "stdout",
     "output_type": "stream",
     "text": [
      "[LightGBM] [Warning] feature_fraction is set=0.8650214129011375, colsample_bytree=1.0 will be ignored. Current value: feature_fraction=0.8650214129011375\n",
      "[LightGBM] [Warning] lambda_l1 is set=0.4077438359838218, reg_alpha=0.0 will be ignored. Current value: lambda_l1=0.4077438359838218\n",
      "[LightGBM] [Warning] bagging_fraction is set=0.96264223918917, subsample=1.0 will be ignored. Current value: bagging_fraction=0.96264223918917\n",
      "[LightGBM] [Warning] lambda_l2 is set=0.9083064687048718, reg_lambda=0.0 will be ignored. Current value: lambda_l2=0.9083064687048718\n",
      "[LightGBM] [Warning] bagging_freq is set=8, subsample_freq=0 will be ignored. Current value: bagging_freq=8\n"
     ]
    },
    {
     "name": "stderr",
     "output_type": "stream",
     "text": [
      "D:\\Programs\\Anaconda\\lib\\site-packages\\sklearn\\utils\\deprecation.py:87: FutureWarning: Function get_feature_names is deprecated; get_feature_names is deprecated in 1.0 and will be removed in 1.2. Please use get_feature_names_out instead.\n",
      "  warnings.warn(msg, category=FutureWarning)\n"
     ]
    },
    {
     "name": "stdout",
     "output_type": "stream",
     "text": [
      "[LightGBM] [Warning] feature_fraction is set=0.8619465806149611, colsample_bytree=1.0 will be ignored. Current value: feature_fraction=0.8619465806149611\n",
      "[LightGBM] [Warning] lambda_l1 is set=0.19603436619603887, reg_alpha=0.0 will be ignored. Current value: lambda_l1=0.19603436619603887\n",
      "[LightGBM] [Warning] bagging_fraction is set=0.8068846776736418, subsample=1.0 will be ignored. Current value: bagging_fraction=0.8068846776736418\n",
      "[LightGBM] [Warning] lambda_l2 is set=0.3202664490245678, reg_lambda=0.0 will be ignored. Current value: lambda_l2=0.3202664490245678\n",
      "[LightGBM] [Warning] bagging_freq is set=3, subsample_freq=0 will be ignored. Current value: bagging_freq=3\n"
     ]
    },
    {
     "name": "stderr",
     "output_type": "stream",
     "text": [
      "D:\\Programs\\Anaconda\\lib\\site-packages\\sklearn\\utils\\deprecation.py:87: FutureWarning: Function get_feature_names is deprecated; get_feature_names is deprecated in 1.0 and will be removed in 1.2. Please use get_feature_names_out instead.\n",
      "  warnings.warn(msg, category=FutureWarning)\n"
     ]
    },
    {
     "name": "stdout",
     "output_type": "stream",
     "text": [
      "6\n",
      "6\n",
      "(506, 6)\n",
      "(506, 6)\n",
      "u_LGBM2_bible_belt\n",
      "LR\n",
      "bible_belt\n",
      "(6, 9)\n",
      "(235893,)\n",
      "(235893, 11)\n"
     ]
    },
    {
     "name": "stderr",
     "output_type": "stream",
     "text": [
      "D:\\Programs\\Anaconda\\lib\\site-packages\\sklearn\\linear_model\\_logistic.py:814: ConvergenceWarning: lbfgs failed to converge (status=1):\n",
      "STOP: TOTAL NO. of ITERATIONS REACHED LIMIT.\n",
      "\n",
      "Increase the number of iterations (max_iter) or scale the data as shown in:\n",
      "    https://scikit-learn.org/stable/modules/preprocessing.html\n",
      "Please also refer to the documentation for alternative solver options:\n",
      "    https://scikit-learn.org/stable/modules/linear_model.html#logistic-regression\n",
      "  n_iter_i = _check_optimize_result(\n",
      "D:\\Programs\\Anaconda\\lib\\site-packages\\sklearn\\utils\\deprecation.py:87: FutureWarning: Function get_feature_names is deprecated; get_feature_names is deprecated in 1.0 and will be removed in 1.2. Please use get_feature_names_out instead.\n",
      "  warnings.warn(msg, category=FutureWarning)\n",
      "D:\\Programs\\Anaconda\\lib\\site-packages\\sklearn\\linear_model\\_logistic.py:814: ConvergenceWarning: lbfgs failed to converge (status=1):\n",
      "STOP: TOTAL NO. of ITERATIONS REACHED LIMIT.\n",
      "\n",
      "Increase the number of iterations (max_iter) or scale the data as shown in:\n",
      "    https://scikit-learn.org/stable/modules/preprocessing.html\n",
      "Please also refer to the documentation for alternative solver options:\n",
      "    https://scikit-learn.org/stable/modules/linear_model.html#logistic-regression\n",
      "  n_iter_i = _check_optimize_result(\n",
      "D:\\Programs\\Anaconda\\lib\\site-packages\\sklearn\\utils\\deprecation.py:87: FutureWarning: Function get_feature_names is deprecated; get_feature_names is deprecated in 1.0 and will be removed in 1.2. Please use get_feature_names_out instead.\n",
      "  warnings.warn(msg, category=FutureWarning)\n",
      "D:\\Programs\\Anaconda\\lib\\site-packages\\sklearn\\linear_model\\_logistic.py:814: ConvergenceWarning: lbfgs failed to converge (status=1):\n",
      "STOP: TOTAL NO. of ITERATIONS REACHED LIMIT.\n",
      "\n",
      "Increase the number of iterations (max_iter) or scale the data as shown in:\n",
      "    https://scikit-learn.org/stable/modules/preprocessing.html\n",
      "Please also refer to the documentation for alternative solver options:\n",
      "    https://scikit-learn.org/stable/modules/linear_model.html#logistic-regression\n",
      "  n_iter_i = _check_optimize_result(\n",
      "D:\\Programs\\Anaconda\\lib\\site-packages\\sklearn\\utils\\deprecation.py:87: FutureWarning: Function get_feature_names is deprecated; get_feature_names is deprecated in 1.0 and will be removed in 1.2. Please use get_feature_names_out instead.\n",
      "  warnings.warn(msg, category=FutureWarning)\n",
      "D:\\Programs\\Anaconda\\lib\\site-packages\\sklearn\\linear_model\\_logistic.py:814: ConvergenceWarning: lbfgs failed to converge (status=1):\n",
      "STOP: TOTAL NO. of ITERATIONS REACHED LIMIT.\n",
      "\n",
      "Increase the number of iterations (max_iter) or scale the data as shown in:\n",
      "    https://scikit-learn.org/stable/modules/preprocessing.html\n",
      "Please also refer to the documentation for alternative solver options:\n",
      "    https://scikit-learn.org/stable/modules/linear_model.html#logistic-regression\n",
      "  n_iter_i = _check_optimize_result(\n",
      "D:\\Programs\\Anaconda\\lib\\site-packages\\sklearn\\utils\\deprecation.py:87: FutureWarning: Function get_feature_names is deprecated; get_feature_names is deprecated in 1.0 and will be removed in 1.2. Please use get_feature_names_out instead.\n",
      "  warnings.warn(msg, category=FutureWarning)\n",
      "D:\\Programs\\Anaconda\\lib\\site-packages\\sklearn\\linear_model\\_logistic.py:814: ConvergenceWarning: lbfgs failed to converge (status=1):\n",
      "STOP: TOTAL NO. of ITERATIONS REACHED LIMIT.\n",
      "\n",
      "Increase the number of iterations (max_iter) or scale the data as shown in:\n",
      "    https://scikit-learn.org/stable/modules/preprocessing.html\n",
      "Please also refer to the documentation for alternative solver options:\n",
      "    https://scikit-learn.org/stable/modules/linear_model.html#logistic-regression\n",
      "  n_iter_i = _check_optimize_result(\n",
      "D:\\Programs\\Anaconda\\lib\\site-packages\\sklearn\\utils\\deprecation.py:87: FutureWarning: Function get_feature_names is deprecated; get_feature_names is deprecated in 1.0 and will be removed in 1.2. Please use get_feature_names_out instead.\n",
      "  warnings.warn(msg, category=FutureWarning)\n",
      "D:\\Programs\\Anaconda\\lib\\site-packages\\sklearn\\linear_model\\_logistic.py:814: ConvergenceWarning: lbfgs failed to converge (status=1):\n",
      "STOP: TOTAL NO. of ITERATIONS REACHED LIMIT.\n",
      "\n",
      "Increase the number of iterations (max_iter) or scale the data as shown in:\n",
      "    https://scikit-learn.org/stable/modules/preprocessing.html\n",
      "Please also refer to the documentation for alternative solver options:\n",
      "    https://scikit-learn.org/stable/modules/linear_model.html#logistic-regression\n",
      "  n_iter_i = _check_optimize_result(\n"
     ]
    },
    {
     "name": "stdout",
     "output_type": "stream",
     "text": [
      "6\n",
      "6\n",
      "(506, 6)\n",
      "(506, 6)\n",
      "u_LR_bible_belt\n",
      "DONE\n",
      "dict_keys(['u_LGBM2_bible_belt', 'u_LR_bible_belt'])\n"
     ]
    },
    {
     "name": "stderr",
     "output_type": "stream",
     "text": [
      "D:\\Programs\\Anaconda\\lib\\site-packages\\sklearn\\utils\\deprecation.py:87: FutureWarning: Function get_feature_names is deprecated; get_feature_names is deprecated in 1.0 and will be removed in 1.2. Please use get_feature_names_out instead.\n",
      "  warnings.warn(msg, category=FutureWarning)\n"
     ]
    }
   ],
   "source": [
    "for clf_type in ls_clf_type:\n",
    "    print(clf_type)\n",
    "    \n",
    "# ---------- ---------- ---------- ---------- ----------\n",
    "    \n",
    "    for dataset_type in ls_dataset_type:\n",
    "        print(dataset_type)\n",
    "        \n",
    "        # Get clf-dataset type specific experimental results\n",
    "        temp_experiment_results = experiment_results[(experiment_results['clf_name'] == clf_type) & (experiment_results['dataset'] == dataset_type)]\n",
    "        print(temp_experiment_results.shape)\n",
    "        \n",
    "        # define dataset\n",
    "        X = dataset.copy()\n",
    "        y = X[target]\n",
    "        X.drop(columns = [target], inplace = True)\n",
    "        print(y.shape)\n",
    "        print(X.shape)\n",
    "        \n",
    "#         # define dataset\n",
    "#         X = datasets[dataset_type].copy()\n",
    "#         y = X[target]\n",
    "#         X.drop(columns = [target], inplace = True)\n",
    "#         print(y.shape)\n",
    "#         print(X.shape)\n",
    "        \n",
    "# ---------- ---------- ---------- ---------- ----------\n",
    "        \n",
    "        # store internal results\n",
    "        temp_fold_results = []\n",
    "        temp_rank_results = []\n",
    "\n",
    "        fold = 0\n",
    "        \n",
    "        for ind, row in temp_experiment_results.iterrows():\n",
    "    \n",
    "            fold += 1\n",
    "    \n",
    "            # training set\n",
    "            train = row['train']\n",
    "            X_train = X.iloc[train]\n",
    "            y_train = y.iloc[train]\n",
    "            sw_train = weight_column.iloc[train] if weight_column is not None else None\n",
    "            # test set\n",
    "            test = row['test']\n",
    "            X_test = X.iloc[test]\n",
    "            y_test = y.iloc[test]\n",
    "            sw_test = weight_column.iloc[test] if weight_column is not None else None\n",
    "    \n",
    "            # build model\n",
    "            clf = build_model(row['clf_name'], categorical_columns, row['best_hyparams'])\n",
    "            # fit model\n",
    "            clf.fit(X_train, y_train, clf__sample_weight=sw_train)\n",
    "            # test model\n",
    "            y_scores = clf.predict_proba(X_test)[:,1] \n",
    "            ap = average_precision_score(y_test, y_scores, sample_weight=sw_test)\n",
    "            # should be the same!\n",
    "            #print(ap , row['ap_test'])\n",
    "    \n",
    "            coef_col_name = 'imp_f' + str(fold) # for LR imp is the coefs and for LGBM is the feat_importance\n",
    "            ranking = 'rank_f' + str(fold)\n",
    "\n",
    "            if clf_type == 'LR':        \n",
    "                # get imp\n",
    "                temp_betas_0 = pd.DataFrame(zip(clf['one hot'].get_feature_names(), \n",
    "                                                np.transpose(clf['clf'].coef_)), \n",
    "                                          columns=['features', coef_col_name])\n",
    "                # remove [] and round up\n",
    "                temp_betas_0[coef_col_name] = temp_betas_0[coef_col_name].map(lambda x: round(x[0], 3)) # only diff wrt LGBM\n",
    "\n",
    "                # store\n",
    "                temp_fold_results.append(temp_betas_0)\n",
    "                temp_betas = temp_betas_0.copy()\n",
    "                # clear\n",
    "                del temp_betas_0\n",
    "\n",
    "                # get ranking\n",
    "                temp_betas[coef_col_name] = temp_betas[coef_col_name].map(lambda x: abs(x)) # only diff wrt LGBM\n",
    "                temp_betas.sort_values(by=coef_col_name, ascending=False, inplace=True)\n",
    "                temp_betas[ranking] = temp_betas[coef_col_name].rank(method='dense', ascending=False).astype(int)\n",
    "                temp_betas.drop([coef_col_name], axis=1, inplace=True)\n",
    "\n",
    "                # store\n",
    "                temp_rank_results.append(temp_betas)\n",
    "\n",
    "            else: # only for LGBM2\n",
    "                # get imp\n",
    "                temp_betas_0 = pd.DataFrame(zip(clf['one hot'].get_feature_names(), \n",
    "                                                np.transpose(clf['clf'].feature_importances_)), \n",
    "                                            columns=['features', coef_col_name])\n",
    "\n",
    "                # store\n",
    "                temp_fold_results.append(temp_betas_0)\n",
    "                temp_betas = temp_betas_0.copy()\n",
    "                # clear\n",
    "                del temp_betas_0\n",
    "\n",
    "                # get ranking\n",
    "                temp_betas.sort_values(by=coef_col_name, ascending=False, inplace=True)\n",
    "                temp_betas[ranking] = temp_betas[coef_col_name].rank(method='dense', ascending=False).astype(int)\n",
    "                temp_betas.drop([coef_col_name], axis=1, inplace=True)\n",
    "\n",
    "                # store\n",
    "                temp_rank_results.append(temp_betas)\n",
    "\n",
    "            # clear\n",
    "            del temp_betas, coef_col_name\n",
    "\n",
    "        print(len(temp_fold_results))\n",
    "        print(len(temp_rank_results))\n",
    "        \n",
    "# ---------- ---------- ---------- ---------- ----------\n",
    "        \n",
    "        # get fold results\n",
    "        fold_results = reduce(lambda df1, df2: pd.merge(df1, df2, on='features'), temp_fold_results)\n",
    "        fold_results.set_index(['features'], drop=True, inplace=True)\n",
    "        \n",
    "        print(fold_results.shape)\n",
    "        fold_results_org = fold_results.copy()\n",
    "        \n",
    "        fold_results['imp_avg'] = fold_results.mean(axis=1)\n",
    "        fold_results['imp_std'] = fold_results.std(axis=1)\n",
    "        if clf_type == 'LR':\n",
    "            fold_results['abs_imp_avg'] = fold_results['imp_avg'].abs()\n",
    "            res1 = fold_results.sort_values(by=['abs_imp_avg'], \n",
    "                                            ascending=[False], axis=0)[['abs_imp_avg', 'imp_avg', 'imp_std']] #.head(top_k)\n",
    "        else:\n",
    "            res1 = fold_results.sort_values(by=['imp_avg'], \n",
    "                                            ascending=[False], axis=0)[['imp_avg', 'imp_std']] #.head(top_k)\n",
    "        \n",
    "        # get rankings\n",
    "        rank_results = reduce(lambda df1, df2: pd.merge(df1, df2, on='features'), temp_rank_results)\n",
    "        rank_results.set_index(['features'], drop=True, inplace=True)\n",
    "        \n",
    "        print(rank_results.shape)\n",
    "        rank_results_org = rank_results.copy()\n",
    "        \n",
    "        rank_results['final_ranking_points'] = rank_results.sum(axis=1) #round(rank_results.sum(axis=1) / 100)\n",
    "        #^ so 100 would be the perfect score is it means the feat was ranked 1st over all 100 folds\n",
    "        rank_results.sort_values(by=['final_ranking_points'], \n",
    "                                 ascending=[True], axis=0, inplace=True)\n",
    "        rank_results['final_ranking'] = rank_results['final_ranking_points'].rank(method='first').astype(int)\n",
    "        res2 = rank_results[['final_ranking_points', 'final_ranking']] #.head(top_k)\n",
    "\n",
    "# ---------- ---------- ---------- ---------- ----------\n",
    "        \n",
    "        # store results\n",
    "        run_type = experiment_type + '_' + clf_type + '_' + dataset_type\n",
    "\n",
    "        print(run_type)\n",
    "\n",
    "        all_results[run_type] = {}\n",
    "        all_results[run_type]['fold_results'] = fold_results_org\n",
    "        all_results[run_type]['rank_results'] = rank_results_org\n",
    "        all_results[run_type]['feat_desc'] = res1\n",
    "        all_results[run_type]['feat_rank'] = res2\n",
    "        all_results[run_type]['top_k'] = res2.index.to_list()[:k]\n",
    "\n",
    "        del run_type\n",
    "        del fold_results_org, rank_results_org, fold_results, rank_results, res1, res2\n",
    "\n",
    "# ---------- ---------- ---------- ---------- ----------\n",
    "\n",
    "print('DONE')\n",
    "\n",
    "print(all_results.keys())"
   ]
  },
  {
   "cell_type": "markdown",
   "id": "8a296fe4",
   "metadata": {},
   "source": [
    "## Prepare the rankings"
   ]
  },
  {
   "cell_type": "code",
   "execution_count": 12,
   "id": "c4c14f15",
   "metadata": {},
   "outputs": [],
   "source": [
    "for run_type in all_results.keys():\n",
    "    \n",
    "    # Feature feat. imp. description\n",
    "    name1 = \"\\\\\"  + \"lar_\" + run_type + \"_\" + 'feat_desc'\n",
    "    all_results[run_type]['feat_desc'].to_csv(resu_path + name1 + '.csv')\n",
    "    \n",
    "    # Feature feat. imp. ranking\n",
    "    name2 = \"\\\\\" + \"lar_\" + run_type + \"_\" + 'feat_rank'\n",
    "    all_results[run_type]['feat_rank'].to_csv(resu_path + name2 + '.csv')\n",
    "    \n",
    "    del name1, name2"
   ]
  },
  {
   "cell_type": "code",
   "execution_count": 15,
   "id": "27b09d3f",
   "metadata": {},
   "outputs": [
    {
     "data": {
      "text/plain": [
       "['AGEP',\n",
       " 'WKHP',\n",
       " 'COW',\n",
       " 'POBP',\n",
       " 'SCHL',\n",
       " 'RELP',\n",
       " 'onehot__x0_0',\n",
       " 'onehot__x1_6',\n",
       " 'onehot__x4_3255.0',\n",
       " 'onehot__x2_2']"
      ]
     },
     "execution_count": 15,
     "metadata": {},
     "output_type": "execute_result"
    }
   ],
   "source": [
    "all_results['u_LGBM2_bible_belt']['top_k']"
   ]
  },
  {
   "cell_type": "code",
   "execution_count": 16,
   "id": "fec1db6b",
   "metadata": {},
   "outputs": [
    {
     "data": {
      "text/plain": [
       "['WKHP',\n",
       " 'SCHL',\n",
       " 'onehot__x4_1106.0',\n",
       " 'AGEP',\n",
       " 'onehot__x4_4930.0',\n",
       " 'onehot__x4_1320.0',\n",
       " 'onehot__x4_300.0',\n",
       " 'onehot__x4_1350.0',\n",
       " 'onehot__x4_4030.0',\n",
       " 'onehot__x4_820.0']"
      ]
     },
     "execution_count": 16,
     "metadata": {},
     "output_type": "execute_result"
    }
   ],
   "source": [
    "all_results['u_LR_bible_belt']['top_k']"
   ]
  },
  {
   "cell_type": "code",
   "execution_count": 21,
   "id": "363b1797",
   "metadata": {},
   "outputs": [],
   "source": [
    "# # TABLE 1\n",
    "# df_res_items = pd.DataFrame()\n",
    "\n",
    "# for i in dict((k, all_results[k]) for k in res_items).keys():\n",
    "#     df_res_items[i] = all_results[i]['top_k']\n",
    "\n",
    "# df_res_items['Ranking'] = df_res_items.index + 1\n",
    "# df_res_items\n",
    "\n",
    "# # For Latex document\n",
    "# print(df_res_items.to_latex(index=False))"
   ]
  },
  {
   "cell_type": "code",
   "execution_count": 22,
   "id": "5d6116db",
   "metadata": {},
   "outputs": [],
   "source": [
    "# # TABLE 2\n",
    "# df_res_themes = pd.DataFrame()\n",
    "\n",
    "# for i in dict((k, all_results[k]) for k in res_themes).keys():\n",
    "#     df_res_themes[i] = all_results[i]['top_k']\n",
    "\n",
    "# df_res_themes\n",
    "\n",
    "# # for latex output\n",
    "# print(df_res_themes.to_latex(index=False))"
   ]
  },
  {
   "cell_type": "markdown",
   "id": "fb91ab6b",
   "metadata": {},
   "source": [
    "## Critical difference test for LGBM classifier for top-k\n",
    "\n",
    "We finalize by running the comparisson between the classifier for the top-k. We focus on the LGBM as it's our main model for this section and, thus, run the CD test on the bible belt datasets. Note that in the paper this procedure (as with the feature importance ranking) is done for weighted and unweighted versions of the dataset as well as for the item and theme datasets from the survey data."
   ]
  },
  {
   "cell_type": "code",
   "execution_count": 23,
   "id": "465a53df",
   "metadata": {},
   "outputs": [],
   "source": [
    "from autorank import autorank, create_report, plot_stats, latex_table\n",
    "from matplotlib import pyplot as plt"
   ]
  },
  {
   "cell_type": "code",
   "execution_count": 24,
   "id": "f109a011",
   "metadata": {},
   "outputs": [],
   "source": [
    "lgbm2 = all_results['u_LGBM2_bible_belt']['fold_results'].transpose()[all_results['u_LGBM2_bible_belt']['top_k']].copy()"
   ]
  },
  {
   "cell_type": "code",
   "execution_count": 26,
   "id": "6a3b8790",
   "metadata": {},
   "outputs": [
    {
     "data": {
      "text/html": [
       "<div>\n",
       "<style scoped>\n",
       "    .dataframe tbody tr th:only-of-type {\n",
       "        vertical-align: middle;\n",
       "    }\n",
       "\n",
       "    .dataframe tbody tr th {\n",
       "        vertical-align: top;\n",
       "    }\n",
       "\n",
       "    .dataframe thead th {\n",
       "        text-align: right;\n",
       "    }\n",
       "</style>\n",
       "<table border=\"1\" class=\"dataframe\">\n",
       "  <thead>\n",
       "    <tr style=\"text-align: right;\">\n",
       "      <th>features</th>\n",
       "      <th>AGEP</th>\n",
       "      <th>WKHP</th>\n",
       "      <th>COW</th>\n",
       "      <th>POBP</th>\n",
       "      <th>SCHL</th>\n",
       "      <th>RELP</th>\n",
       "      <th>onehot__x0_0</th>\n",
       "      <th>onehot__x1_6</th>\n",
       "      <th>onehot__x4_3255.0</th>\n",
       "      <th>onehot__x2_2</th>\n",
       "    </tr>\n",
       "  </thead>\n",
       "  <tbody>\n",
       "    <tr>\n",
       "      <th>imp_f1</th>\n",
       "      <td>373</td>\n",
       "      <td>300</td>\n",
       "      <td>268</td>\n",
       "      <td>119</td>\n",
       "      <td>225</td>\n",
       "      <td>112</td>\n",
       "      <td>71</td>\n",
       "      <td>39</td>\n",
       "      <td>44</td>\n",
       "      <td>31</td>\n",
       "    </tr>\n",
       "    <tr>\n",
       "      <th>imp_f2</th>\n",
       "      <td>265</td>\n",
       "      <td>215</td>\n",
       "      <td>215</td>\n",
       "      <td>134</td>\n",
       "      <td>213</td>\n",
       "      <td>115</td>\n",
       "      <td>52</td>\n",
       "      <td>32</td>\n",
       "      <td>46</td>\n",
       "      <td>32</td>\n",
       "    </tr>\n",
       "    <tr>\n",
       "      <th>imp_f3</th>\n",
       "      <td>994</td>\n",
       "      <td>761</td>\n",
       "      <td>598</td>\n",
       "      <td>560</td>\n",
       "      <td>521</td>\n",
       "      <td>320</td>\n",
       "      <td>129</td>\n",
       "      <td>101</td>\n",
       "      <td>104</td>\n",
       "      <td>78</td>\n",
       "    </tr>\n",
       "    <tr>\n",
       "      <th>imp_f4</th>\n",
       "      <td>3058</td>\n",
       "      <td>2054</td>\n",
       "      <td>1292</td>\n",
       "      <td>2253</td>\n",
       "      <td>1513</td>\n",
       "      <td>852</td>\n",
       "      <td>286</td>\n",
       "      <td>233</td>\n",
       "      <td>132</td>\n",
       "      <td>191</td>\n",
       "    </tr>\n",
       "    <tr>\n",
       "      <th>imp_f5</th>\n",
       "      <td>571</td>\n",
       "      <td>454</td>\n",
       "      <td>450</td>\n",
       "      <td>269</td>\n",
       "      <td>363</td>\n",
       "      <td>228</td>\n",
       "      <td>126</td>\n",
       "      <td>65</td>\n",
       "      <td>84</td>\n",
       "      <td>51</td>\n",
       "    </tr>\n",
       "    <tr>\n",
       "      <th>imp_f6</th>\n",
       "      <td>2019</td>\n",
       "      <td>1456</td>\n",
       "      <td>927</td>\n",
       "      <td>1415</td>\n",
       "      <td>1092</td>\n",
       "      <td>655</td>\n",
       "      <td>194</td>\n",
       "      <td>180</td>\n",
       "      <td>123</td>\n",
       "      <td>133</td>\n",
       "    </tr>\n",
       "  </tbody>\n",
       "</table>\n",
       "</div>"
      ],
      "text/plain": [
       "features  AGEP  WKHP   COW  POBP  SCHL  RELP  onehot__x0_0  onehot__x1_6  \\\n",
       "imp_f1     373   300   268   119   225   112            71            39   \n",
       "imp_f2     265   215   215   134   213   115            52            32   \n",
       "imp_f3     994   761   598   560   521   320           129           101   \n",
       "imp_f4    3058  2054  1292  2253  1513   852           286           233   \n",
       "imp_f5     571   454   450   269   363   228           126            65   \n",
       "imp_f6    2019  1456   927  1415  1092   655           194           180   \n",
       "\n",
       "features  onehot__x4_3255.0  onehot__x2_2  \n",
       "imp_f1                   44            31  \n",
       "imp_f2                   46            32  \n",
       "imp_f3                  104            78  \n",
       "imp_f4                  132           191  \n",
       "imp_f5                   84            51  \n",
       "imp_f6                  123           133  "
      ]
     },
     "execution_count": 26,
     "metadata": {},
     "output_type": "execute_result"
    }
   ],
   "source": [
    "lgbm2.head(k)"
   ]
  },
  {
   "cell_type": "code",
   "execution_count": 28,
   "id": "a99e52a0",
   "metadata": {},
   "outputs": [
    {
     "name": "stdout",
     "output_type": "stream",
     "text": [
      "The statistical analysis was conducted for 10 populations with 6 paired samples.\n",
      "The family-wise significance level of the tests is alpha=0.001.\n",
      "We failed to reject the null hypothesis that the population is normal for all populations (minimal observed p-value=0.101). Therefore, we assume that all populations are normal.\n",
      "We applied Bartlett's test for homogeneity and reject the null hypothesis (p=0.000) that thedata is homoscedastic. Thus, we assume that our data is heteroscedastic.\n",
      "Because we have more than two populations and the populations are normal but heteroscedastic, we use the non-parametric Friedman test as omnibus test to determine if there are any significant differences between the mean values of the populations. We use the post-hoc Nemenyi test to infer which differences are significant. We report the mean value (M), the standard deviation (SD) and the mean rank (MR) among all populations over the samples. Differences between populations are significant, if the difference of the mean rank is greater than the critical distance CD=7.383 of the Nemenyi test.\n",
      "We reject the null hypothesis (p=0.000) of the Friedman test that there is no difference in the central tendency of the populations onehot__x2_2 (M=86.000+-291.936, SD=63.975, MR=9.583), onehot__x1_6 (M=108.333+-372.087, SD=81.539, MR=8.750), onehot__x4_3255.0 (M=88.833+-172.306, SD=37.759, MR=8.667), onehot__x0_0 (M=143.000+-392.548, SD=86.023, MR=7.000), RELP (M=380.333+-1394.844, SD=305.667, MR=6.000), SCHL (M=654.500+-2423.799, SD=531.153, MR=4.167), POBP (M=791.667+-3944.478, SD=864.395, MR=4.000), COW (M=625.000+-1895.818, SD=415.451, MR=3.583), WKHP (M=873.333+-3343.392, SD=732.673, MR=2.250), and AGEP (M=1213.333+-5047.777, SD=1106.173, MR=1.000). Therefore, we assume that there is a statistically significant difference between the median values of the populations.\n",
      "Based on the post-hoc Nemenyi test, we assume that there are no significant differences within the following groups: onehot__x2_2, onehot__x1_6, onehot__x4_3255.0, onehot__x0_0, RELP, SCHL, POBP, COW, and WKHP; onehot__x0_0, RELP, SCHL, POBP, COW, WKHP, and AGEP. All other differences are significant.\n"
     ]
    },
    {
     "data": {
      "image/png": "[encoded data removed]",
      "text/plain": [
       "<Figure size 600x225 with 1 Axes>"
      ]
     },
     "metadata": {},
     "output_type": "display_data"
    },
    {
     "name": "stdout",
     "output_type": "stream",
     "text": [
      "\\begin{table}[h]\n",
      "\\centering\n",
      "\\begin{tabular}{lrrrlll}\n",
      "\\toprule\n",
      "{} &    MR &        M &       SD &                     CI &    \\$d\\$ &   Magnitude \\\\\n",
      "features          &       &          &          &                        &        &             \\\\\n",
      "\\midrule\n",
      "onehot\\_\\_x2\\_2      & 9.583 &   86.000 &   63.975 &    [-205.936, 377.936] &  0.000 &  negligible \\\\\n",
      "onehot\\_\\_x1\\_6      & 8.750 &  108.333 &   81.539 &    [-263.754, 480.420] & -0.305 &       small \\\\\n",
      "onehot\\_\\_x4\\_3255.0 & 8.667 &   88.833 &   37.759 &     [-83.473, 261.140] & -0.054 &  negligible \\\\\n",
      "onehot\\_\\_x0\\_0      & 7.000 &  143.000 &   86.023 &    [-249.548, 535.548] & -0.752 &      medium \\\\\n",
      "RELP              & 6.000 &  380.333 &  305.667 &  [-1014.511, 1775.177] & -1.333 &       large \\\\\n",
      "SCHL              & 4.167 &  654.500 &  531.153 &  [-1769.299, 3078.299] & -1.503 &       large \\\\\n",
      "POBP              & 4.000 &  791.667 &  864.395 &  [-3152.812, 4736.145] & -1.151 &       large \\\\\n",
      "COW               & 3.583 &  625.000 &  415.451 &  [-1270.818, 2520.818] & -1.813 &       large \\\\\n",
      "WKHP              & 2.250 &  873.333 &  732.673 &  [-2470.059, 4216.725] & -1.514 &       large \\\\\n",
      "AGEP              & 1.000 & 1213.333 & 1106.173 &  [-3834.443, 6261.110] & -1.439 &       large \\\\\n",
      "\\bottomrule\n",
      "\\end{tabular}\n",
      "\\caption{Summary of populations}\n",
      "\\label{tbl:stat_results}\n",
      "\\end{table}\n"
     ]
    },
    {
     "name": "stderr",
     "output_type": "stream",
     "text": [
      "C:\\Users\\jose\\AppData\\Roaming\\Python\\Python39\\site-packages\\autorank\\autorank.py:697: FutureWarning: In future versions `DataFrame.to_latex` is expected to utilise the base implementation of `Styler.to_latex` for formatting and rendering. The arguments signature may therefore change. It is recommended instead to use `DataFrame.style.to_latex` which also contains additional functionality.\n",
      "  table_string = table_df.to_latex(float_format=float_format, na_rep='-').strip()\n"
     ]
    },
    {
     "data": {
      "text/plain": [
       "<Figure size 640x480 with 0 Axes>"
      ]
     },
     "metadata": {},
     "output_type": "display_data"
    }
   ],
   "source": [
    "lg_res = autorank(lgbm2, alpha=0.001, verbose=False)\n",
    "create_report(lg_res)\n",
    "plot_stats(lg_res)\n",
    "plt.show()\n",
    "plt.savefig(fname = resu_path + 'lar_cd_lg.pdf', bbox_inches='tight', dpi=400)\n",
    "latex_table(lg_res)"
   ]
  },
  {
   "cell_type": "code",
   "execution_count": null,
   "id": "fbe284a1",
   "metadata": {},
   "outputs": [],
   "source": []
  }
 ],
 "metadata": {
  "kernelspec": {
   "display_name": "Python 3 (ipykernel)",
   "language": "python",
   "name": "python3"
  },
  "language_info": {
   "codemirror_mode": {
    "name": "ipython",
    "version": 3
   },
   "file_extension": ".py",
   "mimetype": "text/x-python",
   "name": "python",
   "nbconvert_exporter": "python",
   "pygments_lexer": "ipython3",
   "version": "3.9.13"
  }
 },
 "nbformat": 4,
 "nbformat_minor": 5
}
