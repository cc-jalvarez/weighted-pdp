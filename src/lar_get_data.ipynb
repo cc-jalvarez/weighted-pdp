{
 "cells": [
  {
   "cell_type": "markdown",
   "metadata": {},
   "source": [
    "We use the [US Bible Belt states](https://en.wikipedia.org/wiki/Bible_Belt) from [Folktables](https://github.com/socialfoundations/folktables)' ACSIncome prediction task to showcase the code of Lazzari, Alvarez, and Ruggieri (2022)."
   ]
  },
  {
   "cell_type": "code",
   "execution_count": 1,
   "metadata": {},
   "outputs": [],
   "source": [
    "import os\n",
    "import pandas as pd\n",
    "import numpy as np"
   ]
  },
  {
   "cell_type": "code",
   "execution_count": 2,
   "metadata": {},
   "outputs": [],
   "source": [
    "from folktables import ACSDataSource, ACSIncome\n",
    "\n",
    "# all US states\n",
    "states = sorted(['AL', 'AK', 'AZ', 'AR', 'CA', 'CO', 'CT', 'DE', 'FL', 'GA', \n",
    "                 'HI', 'ID', 'IL', 'IN', 'IA', 'KS', 'KY', 'LA', 'ME', 'MD', \n",
    "                 'MA', 'MI', 'MN', 'MS', 'MO', 'MT', 'NE', 'NV', 'NH', 'NJ', \n",
    "                 'NM', 'NY', 'NC', 'ND', 'OH', 'OK', 'OR', 'PA', 'RI', 'SC', \n",
    "                 'SD', 'TN', 'TX', 'UT', 'VT', 'VA', 'WA', 'WV', 'WI', 'WY'])\n",
    "\n",
    "# state codes from folktables:\n",
    "_STATE_CODES = {'AL': '01', 'AK': '02', 'AZ': '04', 'AR': '05', 'CA': '06',\n",
    "                'CO': '08', 'CT': '09', 'DE': '10', 'FL': '12', 'GA': '13',\n",
    "                'HI': '15', 'ID': '16', 'IL': '17', 'IN': '18', 'IA': '19',\n",
    "                'KS': '20', 'KY': '21', 'LA': '22', 'ME': '23', 'MD': '24',\n",
    "                'MA': '25', 'MI': '26', 'MN': '27', 'MS': '28', 'MO': '29',\n",
    "                'MT': '30', 'NE': '31', 'NV': '32', 'NH': '33', 'NJ': '34',\n",
    "                'NM': '35', 'NY': '36', 'NC': '37', 'ND': '38', 'OH': '39',\n",
    "                'OK': '40', 'OR': '41', 'PA': '42', 'RI': '44', 'SC': '45',\n",
    "                'SD': '46', 'TN': '47', 'TX': '48', 'UT': '49', 'VT': '50',\n",
    "                'VA': '51', 'WA': '53', 'WV': '54', 'WI': '55', 'WY': '56',\n",
    "                'PR': '72'}\n",
    "\n",
    "# # state codes\n",
    "# state_codes = pd.read_csv(os.path.join('..', 'data', 'state_codes.csv'))\n",
    "\n",
    "# bible belt states\n",
    "bible_belt = ['AL','AK', 'GA', 'LA', 'MS', 'OK', 'TN', 'NC', 'SC']\n",
    "\n",
    "# data folder\n",
    "data_source = ACSDataSource(survey_year='2017', horizon='1-Year', survey='person', root_dir=os.path.join('..', 'data'))"
   ]
  },
  {
   "cell_type": "code",
   "execution_count": 3,
   "metadata": {},
   "outputs": [
    {
     "name": "stdout",
     "output_type": "stream",
     "text": [
      "AL\n",
      "Downloading data for 2017 1-Year person survey for AL...\n",
      "11 features for 22074 individuals\n",
      "AK\n",
      "Downloading data for 2017 1-Year person survey for AK...\n",
      "11 features for 3512 individuals\n",
      "GA\n",
      "Downloading data for 2017 1-Year person survey for GA...\n",
      "11 features for 50238 individuals\n",
      "LA\n",
      "Downloading data for 2017 1-Year person survey for LA...\n",
      "11 features for 20882 individuals\n",
      "MS\n",
      "Downloading data for 2017 1-Year person survey for MS...\n",
      "11 features for 13003 individuals\n",
      "OK\n",
      "Downloading data for 2017 1-Year person survey for OK...\n",
      "11 features for 17724 individuals\n",
      "TN\n",
      "Downloading data for 2017 1-Year person survey for TN...\n",
      "11 features for 33240 individuals\n",
      "NC\n",
      "Downloading data for 2017 1-Year person survey for NC...\n",
      "11 features for 50893 individuals\n",
      "SC\n",
      "Downloading data for 2017 1-Year person survey for SC...\n",
      "11 features for 24327 individuals\n",
      "DONE\n"
     ]
    }
   ],
   "source": [
    "for state in bible_belt:\n",
    "    print(state)\n",
    "    \n",
    "    data = data_source.get_data(states=[state], download=True)\n",
    "    features, labels, _ = ACSIncome.df_to_numpy(data)\n",
    "    \n",
    "    df = pd.DataFrame(features, columns=ACSIncome.features)\n",
    "    df['Y'] = labels\n",
    "    df['STATE'] = state\n",
    "    \n",
    "    print(\"{} features for {} individuals\".format(df.shape[1]-1, df.shape[0]))\n",
    "    \n",
    "    df.to_csv(os.path.join('..', 'data', 'lar_{}_adult.csv'.format(state.lower())), sep='|', index=False)\n",
    "    \n",
    "    del data, features, labels, df\n",
    "    \n",
    "print('DONE')"
   ]
  },
  {
   "cell_type": "code",
   "execution_count": null,
   "metadata": {},
   "outputs": [],
   "source": [
    "# let's run the pipeline for Florida\n",
    "fl_data = data_source.get_data(states=['FL'], download=True)\n",
    "fl_features, fl_labels, _ = ACSIncome.df_to_numpy(fl_data)\n",
    "\n",
    "df = pd.DataFrame(fl_features, columns=ACSIncome.features)\n",
    "df['Y'] = fl_labels\n",
    "\n",
    "print(\"{} features for {} individuals\".format(df.shape[1]-1, df.shape[0]))\n",
    "df.head(5)\n",
    "\n",
    "# save for run_experiments\n",
    "df.to_csv(os.path.join('..', 'data', 'lar_fl_adult.csv'), sep='|', index=False)"
   ]
  },
  {
   "cell_type": "code",
   "execution_count": null,
   "metadata": {},
   "outputs": [],
   "source": []
  }
 ],
 "metadata": {
  "kernelspec": {
   "display_name": "fair_ml",
   "language": "python",
   "name": "fair_ml"
  },
  "language_info": {
   "codemirror_mode": {
    "name": "ipython",
    "version": 3
   },
   "file_extension": ".py",
   "mimetype": "text/x-python",
   "name": "python",
   "nbconvert_exporter": "python",
   "pygments_lexer": "ipython3",
   "version": "3.8.5"
  }
 },
 "nbformat": 4,
 "nbformat_minor": 4
}
