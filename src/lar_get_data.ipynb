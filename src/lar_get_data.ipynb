{
 "cells": [
  {
   "cell_type": "markdown",
   "metadata": {},
   "source": [
    "We use the [US Bible Belt states](https://en.wikipedia.org/wiki/Bible_Belt) from [Folktables](https://github.com/socialfoundations/folktables)' ACSIncome prediction task to showcase the code of Lazzari, Alvarez, and Ruggieri (2022)."
   ]
  },
  {
   "cell_type": "code",
   "execution_count": null,
   "metadata": {},
   "outputs": [],
   "source": [
    "import os\n",
    "import pandas as pd\n",
    "import numpy as np"
   ]
  },
  {
   "cell_type": "code",
   "execution_count": null,
   "metadata": {},
   "outputs": [],
   "source": [
    "from folktables import ACSDataSource, ACSIncome\n",
    "\n",
    "# all US states\n",
    "states = sorted(['AL', 'AK', 'AZ', 'AR', 'CA', 'CO', 'CT', 'DE', 'FL', 'GA', \n",
    "                 'HI', 'ID', 'IL', 'IN', 'IA', 'KS', 'KY', 'LA', 'ME', 'MD', \n",
    "                 'MA', 'MI', 'MN', 'MS', 'MO', 'MT', 'NE', 'NV', 'NH', 'NJ', \n",
    "                 'NM', 'NY', 'NC', 'ND', 'OH', 'OK', 'OR', 'PA', 'RI', 'SC', \n",
    "                 'SD', 'TN', 'TX', 'UT', 'VT', 'VA', 'WA', 'WV', 'WI', 'WY'])\n",
    "\n",
    "# state codes\n",
    "state_codes = pd.read_csv(os.path.join('..', 'data', 'state_codes.csv'))\n",
    "\n",
    "# bible belt states\n",
    "bible_belt = ['AL', 'AK', 'GA', 'LA', 'MS', 'OK', 'TN', 'NC', 'SC']\n",
    "\n",
    "# data folder\n",
    "data_source = ACSDataSource(survey_year='2017', horizon='1-Year', survey='person', root_dir=os.path.join('..', 'data'))"
   ]
  },
  {
   "cell_type": "code",
   "execution_count": null,
   "metadata": {},
   "outputs": [],
   "source": [
    "state_codes.head(50)"
   ]
  },
  {
   "cell_type": "code",
   "execution_count": null,
   "metadata": {},
   "outputs": [],
   "source": [
    "for state in bible_belt:\n",
    "    print(state)\n",
    "    data = data_source.get_data(states=[state], download=True)\n",
    "    features, labels, _ = ACSIncome.df_to_numpy(data)\n",
    "    df = pd.DataFrame(features, columns=ACSIncome.features)\n",
    "    df['Y'] = labels\n",
    "    df['STATE'] = state\n",
    "    print(\"{} features for {} individuals\".format(df.shape[1]-1, df.shape[0]))\n",
    "    df.to_csv(os.path.join('..', 'data', 'lar_{}_adult.csv'.format(state.lower())), sep='|', index=False)\n",
    "    del data, features, labels, df\n",
    "print('DONE')"
   ]
  },
  {
   "cell_type": "code",
   "execution_count": null,
   "metadata": {},
   "outputs": [],
   "source": [
    "# let's run the pipeline for Florida\n",
    "fl_data = data_source.get_data(states=['FL'], download=True)\n",
    "fl_features, fl_labels, _ = ACSIncome.df_to_numpy(fl_data)\n",
    "\n",
    "df = pd.DataFrame(fl_features, columns=ACSIncome.features)\n",
    "df['Y'] = fl_labels\n",
    "\n",
    "print(\"{} features for {} individuals\".format(df.shape[1]-1, df.shape[0]))\n",
    "df.head(5)\n",
    "\n",
    "# save for run_experiments\n",
    "df.to_csv(os.path.join('..', 'data', 'lar_fl_adult.csv'), sep='|', index=False)"
   ]
  },
  {
   "cell_type": "code",
   "execution_count": null,
   "metadata": {},
   "outputs": [],
   "source": []
  }
 ],
 "metadata": {
  "kernelspec": {
   "display_name": "Python 3 (ipykernel)",
   "language": "python",
   "name": "python3"
  },
  "language_info": {
   "codemirror_mode": {
    "name": "ipython",
    "version": 3
   },
   "file_extension": ".py",
   "mimetype": "text/x-python",
   "name": "python",
   "nbconvert_exporter": "python",
   "pygments_lexer": "ipython3",
   "version": "3.9.13"
  }
 },
 "nbformat": 4,
 "nbformat_minor": 4
}
